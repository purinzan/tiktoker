{
 "cells": [
  {
   "cell_type": "code",
   "execution_count": 61,
   "id": "a4205c43-26cb-4b85-8590-f842200ad115",
   "metadata": {},
   "outputs": [
    {
     "name": "stdout",
     "output_type": "stream",
     "text": [
      "開くURL: https://www.tiktok.com/v2/auth/authorize/?client_key=sbawd6f9kgtu4fstl5&redirect_uri=https%3A%2F%2Ftiktoker-master.netlify.app%2Fcallback&response_type=code&scope=user.info.basic&state=abc123\n"
     ]
    },
    {
     "data": {
      "text/plain": [
       "True"
      ]
     },
     "execution_count": 61,
     "metadata": {},
     "output_type": "execute_result"
    }
   ],
   "source": [
    "import urllib.parse, webbrowser\n",
    "\n",
    "CLIENT_KEY    = \"sbawd6f9kgtu4fstl5\"\n",
    "REDIRECT_URI  = \"https://tiktoker-master.netlify.app/callback\"\n",
    "scopes        = [\"user.info.basic\"]\n",
    "\n",
    "params = {\n",
    "    \"client_key\": CLIENT_KEY,\n",
    "    \"redirect_uri\": REDIRECT_URI,\n",
    "    \"response_type\": \"code\",\n",
    "    \"scope\": \" \".join(scopes),\n",
    "    \"state\": \"abc123\"\n",
    "}\n",
    "auth_url = \"https://www.tiktok.com/v2/auth/authorize/?\" + urllib.parse.urlencode(params)\n",
    "print(\"開くURL:\", auth_url)\n",
    "webbrowser.open(auth_url)   # 既定ブラウザが自動で開く"
   ]
  },
  {
   "cell_type": "code",
   "execution_count": 62,
   "id": "0f90c4dd-ae46-4cb1-be39-bcba17424fd0",
   "metadata": {},
   "outputs": [
    {
     "name": "stdout",
     "output_type": "stream",
     "text": [
      "r2plAs9UYdl5BOxw14l4jWU9n0RH64GB\n",
      "{\n",
      "  \"access_token\": \"act.4ISsWrhze22rhIe8g3jT0Vb1nNCnwK9HGfroQAg23agQIXEVmWMrV58PnZUi!5345.va\",\n",
      "  \"expires_in\": 86400,\n",
      "  \"open_id\": \"-000DT7UI3F8wq1VMCRwCISsWdWDWjawYI2j\",\n",
      "  \"refresh_expires_in\": 31536000,\n",
      "  \"refresh_token\": \"rft.C3X0tNDrOe2R2EcH9cGxKdVInFTTrgLcBFRD81eiD0AyqZrTEtdEIgiOB2VB!5331.va\",\n",
      "  \"scope\": \"user.info.basic\",\n",
      "  \"token_type\": \"Bearer\"\n",
      "}\n",
      "API エラー: {'access_token': 'act.4ISsWrhze22rhIe8g3jT0Vb1nNCnwK9HGfroQAg23agQIXEVmWMrV58PnZUi!5345.va', 'expires_in': 86400, 'open_id': '-000DT7UI3F8wq1VMCRwCISsWdWDWjawYI2j', 'refresh_expires_in': 31536000, 'refresh_token': 'rft.C3X0tNDrOe2R2EcH9cGxKdVInFTTrgLcBFRD81eiD0AyqZrTEtdEIgiOB2VB!5331.va', 'scope': 'user.info.basic', 'token_type': 'Bearer'}\n"
     ]
    }
   ],
   "source": [
    "import os, requests, json\n",
    "from dotenv import load_dotenv\n",
    "load_dotenv()  \n",
    "\n",
    "CODE          = \"BhfZY5I9Bv_mV819FSvLFQTrUsXUcBdP0Z6j_nkSAg6eeyCZUJ28DxXveFxvJ-8ggOmNgBjOmnz7WMRVGtdlNIlrk85UMCsHoMzZh9aAv-eDTr_bUSGtteaHsTgNRkccOhgJfeizCBabOgCR_L8cPdxd3vENvonUcX2ojljR6CzGmqO_8_ZAUh8tu9RInnG8%2A1%215280\"\n",
    "\n",
    "payload = {\n",
    "    \"client_key\":    CLIENT_KEY,\n",
    "    \"client_secret\": CLIENT_SECRET,\n",
    "    \"code\":          CODE,\n",
    "    \"grant_type\":    \"authorization_code\",\n",
    "    \"redirect_uri\":  REDIRECT_URI          # ★ 追加！\n",
    "}\n",
    "\n",
    "resp = requests.post(\n",
    "    \"https://open.tiktokapis.com/v2/oauth/token/\",\n",
    "    data=payload,\n",
    "    headers={\n",
    "        \"Content-Type\": \"application/x-www-form-urlencoded\"\n",
    "    },\n",
    "    timeout=15\n",
    ").json()\n",
    "\n",
    "print(json.dumps(resp, indent=2, ensure_ascii=False))\n",
    "\n",
    "if \"data\" in resp:          # ← 安全に取り出す\n",
    "    access_token  = resp[\"data\"][\"access_token\"]\n",
    "    refresh_token = resp[\"data\"][\"refresh_token\"]\n",
    "    print(\"トークン取得成功！\")\n",
    "else:\n",
    "    print(\"API エラー:\", resp)"
   ]
  },
  {
   "cell_type": "code",
   "execution_count": null,
   "id": "b161da5e-cc1a-4b41-b1f0-0f08a49e916f",
   "metadata": {},
   "outputs": [],
   "source": []
  },
  {
   "cell_type": "code",
   "execution_count": 63,
   "id": "3f65544b-6b0e-4569-9d96-e98087c3b072",
   "metadata": {
    "scrolled": true
   },
   "outputs": [
    {
     "name": "stdout",
     "output_type": "stream",
     "text": [
      "{\n",
      "  \"data\": {},\n",
      "  \"error\": {\n",
      "    \"code\": \"scope_not_authorized\",\n",
      "    \"message\": \"The user did not authorize the scope required for completing this request.\",\n",
      "    \"log_id\": \"20250722113234F624F6C52211425F1DB3\"\n",
      "  }\n",
      "}\n"
     ]
    }
   ],
   "source": [
    "import requests, json\n",
    "\n",
    "ACCESS_TOKEN  = \"act.4ISsWrhze22rhIe8g3jT0Vb1nNCnwK9HGfroQAg23agQIXEVmWMrV58PnZUi!5345.va\"        # 24h で失効\n",
    "headers = {\"Authorization\": f\"Bearer {ACCESS_TOKEN}\"}\n",
    "\n",
    "FIELDS = \",\".join([\n",
    "    \"open_id\",\n",
    "    \"username\",\n",
    "    \"followers_count\"\n",
    "])\n",
    "\n",
    "resp = requests.get(\n",
    "    f\"https://open.tiktokapis.com/v2/user/info/?fields={FIELDS}\",\n",
    "    headers=headers,\n",
    "    timeout=15\n",
    ").json()\n",
    "\n",
    "print(json.dumps(resp, indent=2, ensure_ascii=False))\n",
    "\n"
   ]
  },
  {
   "cell_type": "code",
   "execution_count": 64,
   "id": "14e2ef95-c648-4e64-9e2a-87623446afc0",
   "metadata": {
    "scrolled": true
   },
   "outputs": [
    {
     "ename": "JSONDecodeError",
     "evalue": "Expecting value: line 1 column 1 (char 0)",
     "output_type": "error",
     "traceback": [
      "\u001b[1;31m---------------------------------------------------------------------------\u001b[0m",
      "\u001b[1;31mJSONDecodeError\u001b[0m                           Traceback (most recent call last)",
      "File \u001b[1;32m~\\AppData\\Local\\Programs\\Python\\Python310\\lib\\site-packages\\requests\\models.py:971\u001b[0m, in \u001b[0;36mResponse.json\u001b[1;34m(self, **kwargs)\u001b[0m\n\u001b[0;32m    970\u001b[0m \u001b[38;5;28;01mtry\u001b[39;00m:\n\u001b[1;32m--> 971\u001b[0m     \u001b[38;5;28;01mreturn\u001b[39;00m complexjson\u001b[38;5;241m.\u001b[39mloads(\u001b[38;5;28mself\u001b[39m\u001b[38;5;241m.\u001b[39mtext, \u001b[38;5;241m*\u001b[39m\u001b[38;5;241m*\u001b[39mkwargs)\n\u001b[0;32m    972\u001b[0m \u001b[38;5;28;01mexcept\u001b[39;00m JSONDecodeError \u001b[38;5;28;01mas\u001b[39;00m e:\n\u001b[0;32m    973\u001b[0m     \u001b[38;5;66;03m# Catch JSON-related errors and raise as requests.JSONDecodeError\u001b[39;00m\n\u001b[0;32m    974\u001b[0m     \u001b[38;5;66;03m# This aliases json.JSONDecodeError and simplejson.JSONDecodeError\u001b[39;00m\n",
      "File \u001b[1;32m~\\AppData\\Local\\Programs\\Python\\Python310\\lib\\json\\__init__.py:346\u001b[0m, in \u001b[0;36mloads\u001b[1;34m(s, cls, object_hook, parse_float, parse_int, parse_constant, object_pairs_hook, **kw)\u001b[0m\n\u001b[0;32m    343\u001b[0m \u001b[38;5;28;01mif\u001b[39;00m (\u001b[38;5;28mcls\u001b[39m \u001b[38;5;129;01mis\u001b[39;00m \u001b[38;5;28;01mNone\u001b[39;00m \u001b[38;5;129;01mand\u001b[39;00m object_hook \u001b[38;5;129;01mis\u001b[39;00m \u001b[38;5;28;01mNone\u001b[39;00m \u001b[38;5;129;01mand\u001b[39;00m\n\u001b[0;32m    344\u001b[0m         parse_int \u001b[38;5;129;01mis\u001b[39;00m \u001b[38;5;28;01mNone\u001b[39;00m \u001b[38;5;129;01mand\u001b[39;00m parse_float \u001b[38;5;129;01mis\u001b[39;00m \u001b[38;5;28;01mNone\u001b[39;00m \u001b[38;5;129;01mand\u001b[39;00m\n\u001b[0;32m    345\u001b[0m         parse_constant \u001b[38;5;129;01mis\u001b[39;00m \u001b[38;5;28;01mNone\u001b[39;00m \u001b[38;5;129;01mand\u001b[39;00m object_pairs_hook \u001b[38;5;129;01mis\u001b[39;00m \u001b[38;5;28;01mNone\u001b[39;00m \u001b[38;5;129;01mand\u001b[39;00m \u001b[38;5;129;01mnot\u001b[39;00m kw):\n\u001b[1;32m--> 346\u001b[0m     \u001b[38;5;28;01mreturn\u001b[39;00m \u001b[43m_default_decoder\u001b[49m\u001b[38;5;241;43m.\u001b[39;49m\u001b[43mdecode\u001b[49m\u001b[43m(\u001b[49m\u001b[43ms\u001b[49m\u001b[43m)\u001b[49m\n\u001b[0;32m    347\u001b[0m \u001b[38;5;28;01mif\u001b[39;00m \u001b[38;5;28mcls\u001b[39m \u001b[38;5;129;01mis\u001b[39;00m \u001b[38;5;28;01mNone\u001b[39;00m:\n",
      "File \u001b[1;32m~\\AppData\\Local\\Programs\\Python\\Python310\\lib\\json\\decoder.py:337\u001b[0m, in \u001b[0;36mJSONDecoder.decode\u001b[1;34m(self, s, _w)\u001b[0m\n\u001b[0;32m    333\u001b[0m \u001b[38;5;250m\u001b[39m\u001b[38;5;124;03m\"\"\"Return the Python representation of ``s`` (a ``str`` instance\u001b[39;00m\n\u001b[0;32m    334\u001b[0m \u001b[38;5;124;03mcontaining a JSON document).\u001b[39;00m\n\u001b[0;32m    335\u001b[0m \n\u001b[0;32m    336\u001b[0m \u001b[38;5;124;03m\"\"\"\u001b[39;00m\n\u001b[1;32m--> 337\u001b[0m obj, end \u001b[38;5;241m=\u001b[39m \u001b[38;5;28;43mself\u001b[39;49m\u001b[38;5;241;43m.\u001b[39;49m\u001b[43mraw_decode\u001b[49m\u001b[43m(\u001b[49m\u001b[43ms\u001b[49m\u001b[43m,\u001b[49m\u001b[43m \u001b[49m\u001b[43midx\u001b[49m\u001b[38;5;241;43m=\u001b[39;49m\u001b[43m_w\u001b[49m\u001b[43m(\u001b[49m\u001b[43ms\u001b[49m\u001b[43m,\u001b[49m\u001b[43m \u001b[49m\u001b[38;5;241;43m0\u001b[39;49m\u001b[43m)\u001b[49m\u001b[38;5;241;43m.\u001b[39;49m\u001b[43mend\u001b[49m\u001b[43m(\u001b[49m\u001b[43m)\u001b[49m\u001b[43m)\u001b[49m\n\u001b[0;32m    338\u001b[0m end \u001b[38;5;241m=\u001b[39m _w(s, end)\u001b[38;5;241m.\u001b[39mend()\n",
      "File \u001b[1;32m~\\AppData\\Local\\Programs\\Python\\Python310\\lib\\json\\decoder.py:355\u001b[0m, in \u001b[0;36mJSONDecoder.raw_decode\u001b[1;34m(self, s, idx)\u001b[0m\n\u001b[0;32m    354\u001b[0m \u001b[38;5;28;01mexcept\u001b[39;00m \u001b[38;5;167;01mStopIteration\u001b[39;00m \u001b[38;5;28;01mas\u001b[39;00m err:\n\u001b[1;32m--> 355\u001b[0m     \u001b[38;5;28;01mraise\u001b[39;00m JSONDecodeError(\u001b[38;5;124m\"\u001b[39m\u001b[38;5;124mExpecting value\u001b[39m\u001b[38;5;124m\"\u001b[39m, s, err\u001b[38;5;241m.\u001b[39mvalue) \u001b[38;5;28;01mfrom\u001b[39;00m \u001b[38;5;28;01mNone\u001b[39;00m\n\u001b[0;32m    356\u001b[0m \u001b[38;5;28;01mreturn\u001b[39;00m obj, end\n",
      "\u001b[1;31mJSONDecodeError\u001b[0m: Expecting value: line 1 column 1 (char 0)",
      "\nDuring handling of the above exception, another exception occurred:\n",
      "\u001b[1;31mJSONDecodeError\u001b[0m                           Traceback (most recent call last)",
      "Cell \u001b[1;32mIn[64], line 10\u001b[0m\n\u001b[0;32m      1\u001b[0m \u001b[38;5;28;01mimport\u001b[39;00m \u001b[38;5;21;01mrequests\u001b[39;00m\u001b[38;5;241m,\u001b[39m \u001b[38;5;21;01mjson\u001b[39;00m\n\u001b[0;32m      3\u001b[0m ACCESS_TOKEN \u001b[38;5;241m=\u001b[39m \u001b[38;5;124m\"\u001b[39m\u001b[38;5;124mact.4ISsWrhze22rhIe8g3jT0Vb1nNCnwK9HGfroQAg23agQIXEVmWMrV58PnZUi!5345.va\u001b[39m\u001b[38;5;124m\"\u001b[39m\n\u001b[0;32m      5\u001b[0m resp \u001b[38;5;241m=\u001b[39m \u001b[43mrequests\u001b[49m\u001b[38;5;241;43m.\u001b[39;49m\u001b[43mpost\u001b[49m\u001b[43m(\u001b[49m\n\u001b[0;32m      6\u001b[0m \u001b[43m    \u001b[49m\u001b[38;5;124;43m\"\u001b[39;49m\u001b[38;5;124;43mhttps://open.tiktokapis.com/v2/oauth/token/introspect/\u001b[39;49m\u001b[38;5;124;43m\"\u001b[39;49m\u001b[43m,\u001b[49m\n\u001b[0;32m      7\u001b[0m \u001b[43m    \u001b[49m\u001b[43mdata\u001b[49m\u001b[38;5;241;43m=\u001b[39;49m\u001b[43m{\u001b[49m\u001b[38;5;124;43m\"\u001b[39;49m\u001b[38;5;124;43mtoken\u001b[39;49m\u001b[38;5;124;43m\"\u001b[39;49m\u001b[43m:\u001b[49m\u001b[43m \u001b[49m\u001b[43mACCESS_TOKEN\u001b[49m\u001b[43m}\u001b[49m\u001b[43m,\u001b[49m\n\u001b[0;32m      8\u001b[0m \u001b[43m    \u001b[49m\u001b[43mheaders\u001b[49m\u001b[38;5;241;43m=\u001b[39;49m\u001b[43m{\u001b[49m\u001b[38;5;124;43m\"\u001b[39;49m\u001b[38;5;124;43mContent-Type\u001b[39;49m\u001b[38;5;124;43m\"\u001b[39;49m\u001b[43m:\u001b[49m\u001b[43m \u001b[49m\u001b[38;5;124;43m\"\u001b[39;49m\u001b[38;5;124;43mapplication/x-www-form-urlencoded\u001b[39;49m\u001b[38;5;124;43m\"\u001b[39;49m\u001b[43m}\u001b[49m\u001b[43m,\u001b[49m\n\u001b[0;32m      9\u001b[0m \u001b[43m    \u001b[49m\u001b[43mtimeout\u001b[49m\u001b[38;5;241;43m=\u001b[39;49m\u001b[38;5;241;43m15\u001b[39;49m\n\u001b[1;32m---> 10\u001b[0m \u001b[43m)\u001b[49m\u001b[38;5;241;43m.\u001b[39;49m\u001b[43mjson\u001b[49m\u001b[43m(\u001b[49m\u001b[43m)\u001b[49m\n\u001b[0;32m     12\u001b[0m \u001b[38;5;28mprint\u001b[39m(json\u001b[38;5;241m.\u001b[39mdumps(resp, indent\u001b[38;5;241m=\u001b[39m\u001b[38;5;241m2\u001b[39m, ensure_ascii\u001b[38;5;241m=\u001b[39m\u001b[38;5;28;01mFalse\u001b[39;00m))\n",
      "File \u001b[1;32m~\\AppData\\Local\\Programs\\Python\\Python310\\lib\\site-packages\\requests\\models.py:975\u001b[0m, in \u001b[0;36mResponse.json\u001b[1;34m(self, **kwargs)\u001b[0m\n\u001b[0;32m    971\u001b[0m     \u001b[38;5;28;01mreturn\u001b[39;00m complexjson\u001b[38;5;241m.\u001b[39mloads(\u001b[38;5;28mself\u001b[39m\u001b[38;5;241m.\u001b[39mtext, \u001b[38;5;241m*\u001b[39m\u001b[38;5;241m*\u001b[39mkwargs)\n\u001b[0;32m    972\u001b[0m \u001b[38;5;28;01mexcept\u001b[39;00m JSONDecodeError \u001b[38;5;28;01mas\u001b[39;00m e:\n\u001b[0;32m    973\u001b[0m     \u001b[38;5;66;03m# Catch JSON-related errors and raise as requests.JSONDecodeError\u001b[39;00m\n\u001b[0;32m    974\u001b[0m     \u001b[38;5;66;03m# This aliases json.JSONDecodeError and simplejson.JSONDecodeError\u001b[39;00m\n\u001b[1;32m--> 975\u001b[0m     \u001b[38;5;28;01mraise\u001b[39;00m RequestsJSONDecodeError(e\u001b[38;5;241m.\u001b[39mmsg, e\u001b[38;5;241m.\u001b[39mdoc, e\u001b[38;5;241m.\u001b[39mpos)\n",
      "\u001b[1;31mJSONDecodeError\u001b[0m: Expecting value: line 1 column 1 (char 0)"
     ]
    }
   ],
   "source": [
    "import requests, json\n",
    "\n",
    "ACCESS_TOKEN = \"act.4ISsWrhze22rhIe8g3jT0Vb1nNCnwK9HGfroQAg23agQIXEVmWMrV58PnZUi!5345.va\"\n",
    "\n",
    "resp = requests.post(\n",
    "    \"https://open.tiktokapis.com/v2/oauth/token/introspect/\",\n",
    "    data={\"token\": ACCESS_TOKEN},\n",
    "    headers={\"Content-Type\": \"application/x-www-form-urlencoded\"},\n",
    "    timeout=15\n",
    ").json()\n",
    "\n",
    "print(json.dumps(resp, indent=2, ensure_ascii=False))"
   ]
  },
  {
   "cell_type": "code",
   "execution_count": 65,
   "id": "5807cf44-8845-4457-be4a-fbc1fd142db4",
   "metadata": {
    "scrolled": true
   },
   "outputs": [
    {
     "name": "stdout",
     "output_type": "stream",
     "text": [
      "status_code = 404\n",
      "headers ----\n",
      "{'Access-Control-Expose-Headers': 'x-tt-traceflag,x-tt-logid',\n",
      " 'Cache-Control': 'max-age=0, no-cache, no-store',\n",
      " 'Connection': 'close',\n",
      " 'Content-Length': '23',\n",
      " 'Content-Type': 'text/plain; charset=utf-8',\n",
      " 'Date': 'Tue, 22 Jul 2025 03:32:52 GMT',\n",
      " 'Expires': 'Tue, 22 Jul 2025 03:32:52 GMT',\n",
      " 'Pragma': 'no-cache',\n",
      " 'Server': 'nginx',\n",
      " 'Server-Timing': 'cdn-cache; desc=MISS, edge; dur=30, origin; dur=9, inner; '\n",
      "                  'dur=4',\n",
      " 'X-Origin-Response-Time': '9,23.3.12.69',\n",
      " 'X-Parent-Response-Time': '35,23.218.253.204',\n",
      " 'X-Tt-Logid': '202507220332523C06B39E9630DA0099D4',\n",
      " 'x-tt-trace-host': '0193ecfd73329e3d96b1dbd5ac1159451840a2ee141cbb6ed4aa9b1e29a2ee00f1d4b41e0c41ad5948b031e9cf74952416326d8bf5e746a05ea46e211a2a15a904cc73a280ee65143a34fd0adf666f0b2d7ef04020662e3056453f6969aa3ef4fe1d1b6053700a1e6347e8688cb1e22f0a',\n",
      " 'x-tt-trace-id': '00-2507220332523C06B39E9630DA0099D4-0E1A0458401E00F2-00',\n",
      " 'x-tt-trace-tag': 'id=16;cdn-cache=miss;type=dyn'}\n",
      "\n",
      "body (100 文字まで) ----\n",
      "Unsupported path(Janus)\n"
     ]
    }
   ],
   "source": [
    "import requests, pprint, textwrap\n",
    "\n",
    "ACCESS_TOKEN = \"act.4ISsWrhze22rhIe8g3jT0Vb1nNCnwK9HGfroQAg23agQIXEVmWMrV58PnZUi!5345.va\"\n",
    "r = requests.post(\n",
    "    \"https://open.tiktokapis.com/v2/oauth/token/introspect/\",\n",
    "    data={\"token\": ACCESS_TOKEN},\n",
    "    headers={\"Content-Type\": \"application/x-www-form-urlencoded\"},\n",
    "    timeout=15\n",
    ")\n",
    "\n",
    "print(\"status_code =\", r.status_code)\n",
    "print(\"headers ----\")\n",
    "pprint.pprint(dict(r.headers))\n",
    "print(\"\\nbody (100 文字まで) ----\")\n",
    "print(textwrap.shorten(r.text.replace(\"\\n\", \" \"), width=100, placeholder=\" …\"))"
   ]
  },
  {
   "cell_type": "code",
   "execution_count": 66,
   "id": "5def5233-52ed-4f0b-9047-11b32c71e9c7",
   "metadata": {},
   "outputs": [
    {
     "name": "stdout",
     "output_type": "stream",
     "text": [
      "status_code = 401\n",
      "{\n",
      "  \"error\": {\n",
      "    \"code\": \"scope_not_authorized\",\n",
      "    \"message\": \"The user did not authorize the scope required for completing this request.\",\n",
      "    \"log_id\": \"20250722113304466EB15FD84FA25C601D\"\n",
      "  },\n",
      "  \"data\": {}\n",
      "}\n"
     ]
    }
   ],
   "source": [
    "import requests, json\n",
    "\n",
    "ACCESS_TOKEN = \"act.4ISsWrhze22rhIe8g3jT0Vb1nNCnwK9HGfroQAg23agQIXEVmWMrV58PnZUi!5345.va\"\n",
    "headers = {\"Authorization\": f\"Bearer {ACCESS_TOKEN}\"}\n",
    "\n",
    "url = (\n",
    "    \"https://open.tiktokapis.com/v2/user/info/\"\n",
    "    \"?fields=open_id,username,followers_count\"\n",
    ")  # ↑ user.info.basic で取得できる最小3項目\n",
    "\n",
    "resp = requests.get(url, headers=headers, timeout=15)\n",
    "\n",
    "print(\"status_code =\", resp.status_code)\n",
    "try:\n",
    "    # サーバーが JSON を返していればここが通る\n",
    "    print(json.dumps(resp.json(), indent=2, ensure_ascii=False))\n",
    "except ValueError:\n",
    "    # JSON でない場合はテキストを表示\n",
    "    print(\"JSON ではありません:\", resp.text[:300])"
   ]
  },
  {
   "cell_type": "code",
   "execution_count": 67,
   "id": "1dadc740-43ce-44a1-96ec-f7906cd0403b",
   "metadata": {},
   "outputs": [
    {
     "name": "stdout",
     "output_type": "stream",
     "text": [
      "Collecting flask\n",
      "  Downloading flask-3.1.1-py3-none-any.whl.metadata (3.0 kB)\n",
      "Requirement already satisfied: requests in c:\\users\\ryoij\\appdata\\local\\programs\\python\\python310\\lib\\site-packages (2.31.0)\n",
      "Requirement already satisfied: python-dotenv in c:\\users\\ryoij\\appdata\\local\\programs\\python\\python310\\lib\\site-packages (1.1.1)\n",
      "Collecting blinker>=1.9.0 (from flask)\n",
      "  Downloading blinker-1.9.0-py3-none-any.whl.metadata (1.6 kB)\n",
      "Requirement already satisfied: click>=8.1.3 in c:\\users\\ryoij\\appdata\\local\\programs\\python\\python310\\lib\\site-packages (from flask) (8.2.1)\n",
      "Collecting itsdangerous>=2.2.0 (from flask)\n",
      "  Downloading itsdangerous-2.2.0-py3-none-any.whl.metadata (1.9 kB)\n",
      "Requirement already satisfied: jinja2>=3.1.2 in c:\\users\\ryoij\\appdata\\local\\programs\\python\\python310\\lib\\site-packages (from flask) (3.1.2)\n",
      "Requirement already satisfied: markupsafe>=2.1.1 in c:\\users\\ryoij\\appdata\\local\\programs\\python\\python310\\lib\\site-packages (from flask) (2.1.3)\n",
      "Collecting werkzeug>=3.1.0 (from flask)\n",
      "  Downloading werkzeug-3.1.3-py3-none-any.whl.metadata (3.7 kB)\n",
      "Requirement already satisfied: charset-normalizer<4,>=2 in c:\\users\\ryoij\\appdata\\local\\programs\\python\\python310\\lib\\site-packages (from requests) (3.3.2)\n",
      "Requirement already satisfied: idna<4,>=2.5 in c:\\users\\ryoij\\appdata\\local\\programs\\python\\python310\\lib\\site-packages (from requests) (3.6)\n",
      "Requirement already satisfied: urllib3<3,>=1.21.1 in c:\\users\\ryoij\\appdata\\local\\programs\\python\\python310\\lib\\site-packages (from requests) (2.4.0)\n",
      "Requirement already satisfied: certifi>=2017.4.17 in c:\\users\\ryoij\\appdata\\local\\programs\\python\\python310\\lib\\site-packages (from requests) (2025.4.26)\n",
      "Requirement already satisfied: colorama in c:\\users\\ryoij\\appdata\\local\\programs\\python\\python310\\lib\\site-packages (from click>=8.1.3->flask) (0.4.6)\n",
      "Downloading flask-3.1.1-py3-none-any.whl (103 kB)\n",
      "Downloading blinker-1.9.0-py3-none-any.whl (8.5 kB)\n",
      "Downloading itsdangerous-2.2.0-py3-none-any.whl (16 kB)\n",
      "Downloading werkzeug-3.1.3-py3-none-any.whl (224 kB)\n",
      "Installing collected packages: werkzeug, itsdangerous, blinker, flask\n",
      "\n",
      "   ---------------------------------------- 0/4 [werkzeug]\n",
      "   ---------------------------------------- 0/4 [werkzeug]\n",
      "   ---------------------------------------- 0/4 [werkzeug]\n",
      "   ---------------------------------------- 0/4 [werkzeug]\n",
      "   ---------------------------------------- 0/4 [werkzeug]\n",
      "   ---------------------------------------- 0/4 [werkzeug]\n",
      "   ---------------------------------------- 0/4 [werkzeug]\n",
      "   ---------------------------------------- 0/4 [werkzeug]\n",
      "   ---------- ----------------------------- 1/4 [itsdangerous]\n",
      "   -------------------- ------------------- 2/4 [blinker]\n",
      "   ------------------------------ --------- 3/4 [flask]\n",
      "   ------------------------------ --------- 3/4 [flask]\n",
      "   ------------------------------ --------- 3/4 [flask]\n",
      "   ------------------------------ --------- 3/4 [flask]\n",
      "   ------------------------------ --------- 3/4 [flask]\n",
      "   ------------------------------ --------- 3/4 [flask]\n",
      "   ------------------------------ --------- 3/4 [flask]\n",
      "   ---------------------------------------- 4/4 [flask]\n",
      "\n",
      "Successfully installed blinker-1.9.0 flask-3.1.1 itsdangerous-2.2.0 werkzeug-3.1.3\n",
      "Note: you may need to restart the kernel to use updated packages.\n"
     ]
    }
   ],
   "source": [
    "pip install flask requests python-dotenv"
   ]
  },
  {
   "cell_type": "code",
   "execution_count": 70,
   "id": "de111607-f6d1-415f-9a7b-6496bc9248b7",
   "metadata": {},
   "outputs": [
    {
     "name": "stdout",
     "output_type": "stream",
     "text": [
      "Opening browser: https://www.tiktok.com/v2/auth/authorize/?client_key=None&redirect_uri=None&response_type=code&scope=user.info.basic&state=local_dev\n",
      " * Serving Flask app '__main__'\n",
      " * Debug mode: off\n"
     ]
    },
    {
     "name": "stderr",
     "output_type": "stream",
     "text": [
      "WARNING: This is a development server. Do not use it in a production deployment. Use a production WSGI server instead.\n",
      " * Running on http://127.0.0.1:8080\n",
      "Press CTRL+C to quit\n"
     ]
    },
    {
     "ename": "KeyboardInterrupt",
     "evalue": "",
     "output_type": "error",
     "traceback": [
      "\u001b[1;31m---------------------------------------------------------------------------\u001b[0m",
      "\u001b[1;31mKeyboardInterrupt\u001b[0m                         Traceback (most recent call last)",
      "Cell \u001b[1;32mIn[70], line 83\u001b[0m\n\u001b[0;32m     80\u001b[0m     \u001b[38;5;28mprint\u001b[39m(\u001b[38;5;124m\"\u001b[39m\u001b[38;5;130;01m\\n\u001b[39;00m\u001b[38;5;124mアクセストークンを tokens.json に保存しました\u001b[39m\u001b[38;5;124m\"\u001b[39m)\n\u001b[0;32m     82\u001b[0m \u001b[38;5;28;01mif\u001b[39;00m \u001b[38;5;18m__name__\u001b[39m \u001b[38;5;241m==\u001b[39m \u001b[38;5;124m\"\u001b[39m\u001b[38;5;124m__main__\u001b[39m\u001b[38;5;124m\"\u001b[39m:\n\u001b[1;32m---> 83\u001b[0m     \u001b[43mmain\u001b[49m\u001b[43m(\u001b[49m\u001b[43m)\u001b[49m\n",
      "Cell \u001b[1;32mIn[70], line 68\u001b[0m, in \u001b[0;36mmain\u001b[1;34m()\u001b[0m\n\u001b[0;32m     66\u001b[0m     \u001b[38;5;28;01mif\u001b[39;00m \u001b[38;5;124m\"\u001b[39m\u001b[38;5;124mcode\u001b[39m\u001b[38;5;124m\"\u001b[39m \u001b[38;5;129;01min\u001b[39;00m code_received:\n\u001b[0;32m     67\u001b[0m         \u001b[38;5;28;01mbreak\u001b[39;00m\n\u001b[1;32m---> 68\u001b[0m     \u001b[43mtime\u001b[49m\u001b[38;5;241;43m.\u001b[39;49m\u001b[43msleep\u001b[49m\u001b[43m(\u001b[49m\u001b[38;5;241;43m1\u001b[39;49m\u001b[43m)\u001b[49m\n\u001b[0;32m     69\u001b[0m \u001b[38;5;28;01melse\u001b[39;00m:\n\u001b[0;32m     70\u001b[0m     \u001b[38;5;28;01mraise\u001b[39;00m \u001b[38;5;167;01mTimeoutError\u001b[39;00m(\u001b[38;5;124m\"\u001b[39m\u001b[38;5;124mcode が取得できませんでした\u001b[39m\u001b[38;5;124m\"\u001b[39m)\n",
      "\u001b[1;31mKeyboardInterrupt\u001b[0m: "
     ]
    }
   ],
   "source": [
    "import os, urllib.parse, webbrowser, requests, json\n",
    "from flask import Flask, request\n",
    "\n",
    "# .env に CLIENT_KEY / CLIENT_SECRET を保存しておくと安全\n",
    "from dotenv import load_dotenv\n",
    "load_dotenv()\n",
    "\n",
    "CLIENT_KEY    = os.getenv(\"CLIENT_KEY\")\n",
    "CLIENT_SECRET = os.getenv(\"CLIENT_SECRET\")\n",
    "REDIRECT_URI  = os.getenv(\"REDIRECT_URI\")\n",
    "SCOPES        = [\"user.info.basic\"]  # 追加したいときは \"user.info.stats\" などを足す\n",
    "\n",
    "# Flask サーバー\n",
    "app = Flask(__name__)\n",
    "code_received = {}\n",
    "\n",
    "@app.route(\"/callback\")\n",
    "def callback():\n",
    "    \"\"\"\n",
    "    TikTok からリダイレクトされた時に ?code=xxx を受け取るエンドポイント\n",
    "    \"\"\"\n",
    "    code = request.args.get(\"code\")\n",
    "    if not code:\n",
    "        return \"code not found\", 400\n",
    "    code_received[\"code\"] = code\n",
    "    return \"<h2>認証完了。アプリに戻ってください。</h2>\"\n",
    "\n",
    "def build_auth_url():\n",
    "    params = {\n",
    "        \"client_key\":   CLIENT_KEY,\n",
    "        \"redirect_uri\": REDIRECT_URI,\n",
    "        \"response_type\": \"code\",\n",
    "        \"scope\":        \" \".join(SCOPES),\n",
    "        \"state\":        \"local_dev\"\n",
    "    }\n",
    "    return \"https://www.tiktok.com/v2/auth/authorize/?\" + urllib.parse.urlencode(params)\n",
    "\n",
    "def exchange_code_for_token(code):\n",
    "    resp = requests.post(\n",
    "        \"https://open.tiktokapis.com/v2/oauth/token/\",\n",
    "        data={\n",
    "            \"client_key\":    CLIENT_KEY,\n",
    "            \"client_secret\": CLIENT_SECRET,\n",
    "            \"code\":          code,\n",
    "            \"grant_type\":    \"authorization_code\",\n",
    "            \"redirect_uri\":  REDIRECT_URI\n",
    "        },\n",
    "        headers={\"Content-Type\": \"application/x-www-form-urlencoded\"},\n",
    "        timeout=15\n",
    "    ).json()\n",
    "    return resp\n",
    "\n",
    "def main():\n",
    "    # ① Flask サーバーを別スレッドで起動\n",
    "    from threading import Thread\n",
    "    Thread(target=lambda: app.run(port=8080, debug=False, use_reloader=False)).start()\n",
    "\n",
    "    # ② 認可 URL をブラウザで開く（自動でタブが開く）\n",
    "    auth_url = build_auth_url()\n",
    "    print(\"Opening browser:\", auth_url)\n",
    "    webbrowser.open(auth_url, new=1, autoraise=True)\n",
    "\n",
    "    # ③ code が来るまでポーリング（最長 120 秒）\n",
    "    import time\n",
    "    for _ in range(120):\n",
    "        if \"code\" in code_received:\n",
    "            break\n",
    "        time.sleep(1)\n",
    "    else:\n",
    "        raise TimeoutError(\"code が取得できませんでした\")\n",
    "\n",
    "    # ④ token 交換\n",
    "    token_resp = exchange_code_for_token(code_received[\"code\"])\n",
    "    print(\"\\n=== token response ===\")\n",
    "    print(json.dumps(token_resp, indent=2, ensure_ascii=False))\n",
    "\n",
    "    # ⑤ 保存（例: JSON ファイル）\n",
    "    with open(\"tokens.json\", \"w\", encoding=\"utf-8\") as f:\n",
    "        json.dump(token_resp, f, ensure_ascii=False, indent=2)\n",
    "    print(\"\\nアクセストークンを tokens.json に保存しました\")\n",
    "\n",
    "if __name__ == \"__main__\":\n",
    "    main()"
   ]
  },
  {
   "cell_type": "code",
   "execution_count": 77,
   "id": "4dbcc69e-1d99-42cb-859b-af70d4d295d4",
   "metadata": {},
   "outputs": [
    {
     "name": "stdout",
     "output_type": "stream",
     "text": [
      "None\n"
     ]
    }
   ],
   "source": [
    "print(os.getenv(\"CLIENT_KEY\"))\n",
    "\n"
   ]
  },
  {
   "cell_type": "code",
   "execution_count": null,
   "id": "6f92b2bd-5a02-4a8c-bb74-95f82d472d64",
   "metadata": {},
   "outputs": [],
   "source": []
  }
 ],
 "metadata": {
  "kernelspec": {
   "display_name": "Python 3 (ipykernel)",
   "language": "python",
   "name": "python3"
  },
  "language_info": {
   "codemirror_mode": {
    "name": "ipython",
    "version": 3
   },
   "file_extension": ".py",
   "mimetype": "text/x-python",
   "name": "python",
   "nbconvert_exporter": "python",
   "pygments_lexer": "ipython3",
   "version": "3.10.6"
  }
 },
 "nbformat": 4,
 "nbformat_minor": 5
}
