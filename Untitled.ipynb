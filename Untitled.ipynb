{
 "cells": [
  {
   "cell_type": "code",
   "execution_count": 18,
   "id": "a4205c43-26cb-4b85-8590-f842200ad115",
   "metadata": {},
   "outputs": [
    {
     "name": "stdout",
     "output_type": "stream",
     "text": [
      "開くURL: https://www.tiktok.com/v2/auth/authorize/?client_key=sbawd6f9kgtu4fstl5&redirect_uri=https%3A%2F%2Ftiktoker-master.netlify.app%2Fcallback&response_type=code&scope=user.info.basic&state=abc123\n"
     ]
    },
    {
     "data": {
      "text/plain": [
       "True"
      ]
     },
     "execution_count": 18,
     "metadata": {},
     "output_type": "execute_result"
    }
   ],
   "source": [
    "import urllib.parse, webbrowser\n",
    "\n",
    "CLIENT_KEY    = \"sbawd6f9kgtu4fstl5\"\n",
    "REDIRECT_URI  = \"https://tiktoker-master.netlify.app/callback\"\n",
    "scopes        = [\"user.info.basic\"]\n",
    "\n",
    "params = {\n",
    "    \"client_key\": CLIENT_KEY,\n",
    "    \"redirect_uri\": REDIRECT_URI,\n",
    "    \"response_type\": \"code\",\n",
    "    \"scope\": \" \".join(scopes),\n",
    "    \"state\": \"abc123\"\n",
    "}\n",
    "auth_url = \"https://www.tiktok.com/v2/auth/authorize/?\" + urllib.parse.urlencode(params)\n",
    "print(\"開くURL:\", auth_url)\n",
    "webbrowser.open(auth_url)   # 既定ブラウザが自動で開く"
   ]
  },
  {
   "cell_type": "code",
   "execution_count": 20,
   "id": "0f90c4dd-ae46-4cb1-be39-bcba17424fd0",
   "metadata": {},
   "outputs": [
    {
     "name": "stdout",
     "output_type": "stream",
     "text": [
      "{\n",
      "  \"access_token\": \"act.PUVpAoaHzX3eE7Fz3y4u3eN0KWuhwDdCqRjgwAygbv947QEsuSTHE5uGxIqm!5282.va\",\n",
      "  \"expires_in\": 86400,\n",
      "  \"open_id\": \"-000DT7UI3F8wq1VMCRwCISsWdWDWjawYI2j\",\n",
      "  \"refresh_expires_in\": 31536000,\n",
      "  \"refresh_token\": \"rft.SW8McGy37qrsWxvkTX1TFLpWEi6IyTDg2PKO1Lc1KyAqcl3O4fQsaCfzXrXu!5271.va\",\n",
      "  \"scope\": \"user.info.basic\",\n",
      "  \"token_type\": \"Bearer\"\n",
      "}\n",
      "API エラー: {'access_token': 'act.PUVpAoaHzX3eE7Fz3y4u3eN0KWuhwDdCqRjgwAygbv947QEsuSTHE5uGxIqm!5282.va', 'expires_in': 86400, 'open_id': '-000DT7UI3F8wq1VMCRwCISsWdWDWjawYI2j', 'refresh_expires_in': 31536000, 'refresh_token': 'rft.SW8McGy37qrsWxvkTX1TFLpWEi6IyTDg2PKO1Lc1KyAqcl3O4fQsaCfzXrXu!5271.va', 'scope': 'user.info.basic', 'token_type': 'Bearer'}\n"
     ]
    }
   ],
   "source": [
    "import os, requests, json\n",
    "from dotenv import load_dotenv\n",
    "load_dotenv()  \n",
    "\n",
    "CODE          = \"1rlFnlpy0tAaHt7n3Tk3VN0tRGY9n_xO2CYZTNJtErvQJWV3LNIYoFCOGZfBtb0M4XJ5KRSZVmr3KhgOXb2xzHiCxrieA8Gj3QzHdFLunA9d8AiNBDKYPRgaLa8JTXRZOU_vQJ__seuFS5lb5DLfuvzlaAwWtk6o4D4PltBpYHe6jHb1iBmz4BIU8mD891Gf%2A0%215266\"\n",
    "\n",
    "payload = {\n",
    "    \"client_key\":    CLIENT_KEY,\n",
    "    \"client_secret\": CLIENT_SECRET,\n",
    "    \"code\":          CODE,\n",
    "    \"grant_type\":    \"authorization_code\",\n",
    "    \"redirect_uri\":  REDIRECT_URI          # ★ 追加！\n",
    "}\n",
    "\n",
    "resp = requests.post(\n",
    "    \"https://open.tiktokapis.com/v2/oauth/token/\",\n",
    "    data=payload,\n",
    "    headers={\n",
    "        \"Content-Type\": \"application/x-www-form-urlencoded\"\n",
    "    },\n",
    "    timeout=15\n",
    ").json()\n",
    "\n",
    "print(json.dumps(resp, indent=2, ensure_ascii=False))\n",
    "\n",
    "if \"data\" in resp:          # ← 安全に取り出す\n",
    "    access_token  = resp[\"data\"][\"access_token\"]\n",
    "    refresh_token = resp[\"data\"][\"refresh_token\"]\n",
    "    print(\"トークン取得成功！\")\n",
    "else:\n",
    "    print(\"API エラー:\", resp)"
   ]
  },
  {
   "cell_type": "code",
   "execution_count": 21,
   "id": "3f65544b-6b0e-4569-9d96-e98087c3b072",
   "metadata": {
    "scrolled": true
   },
   "outputs": [
    {
     "name": "stdout",
     "output_type": "stream",
     "text": [
      "{\n",
      "  \"data\": {\n",
      "    \"user\": {\n",
      "      \"open_id\": \"-000DT7UI3F8wq1VMCRwCISsWdWDWjawYI2j\"\n",
      "    }\n",
      "  },\n",
      "  \"error\": {\n",
      "    \"code\": \"ok\",\n",
      "    \"message\": \"\",\n",
      "    \"log_id\": \"202507241250474B363A600456FD59AB33\"\n",
      "  }\n",
      "}\n"
     ]
    }
   ],
   "source": [
    "import requests, json\n",
    "\n",
    "ACCESS_TOKEN  = \"act.PUVpAoaHzX3eE7Fz3y4u3eN0KWuhwDdCqRjgwAygbv947QEsuSTHE5uGxIqm!5282.va\"        # 24h で失効\n",
    "headers = {\"Authorization\": f\"Bearer {ACCESS_TOKEN}\"}\n",
    "\n",
    "FIELDS = \",\".join([\n",
    "    \"open_id\",\n",
    "])\n",
    "\n",
    "resp = requests.get(\n",
    "    f\"https://open.tiktokapis.com/v2/user/info/?fields={FIELDS}\",\n",
    "    headers=headers,\n",
    "    timeout=15\n",
    ").json()\n",
    "\n",
    "print(json.dumps(resp, indent=2, ensure_ascii=False))\n",
    "\n"
   ]
  },
  {
   "cell_type": "code",
   "execution_count": 16,
   "id": "db92d144-df32-4903-aaad-0de7ed15e83f",
   "metadata": {},
   "outputs": [
    {
     "ename": "TypeError",
     "evalue": "open() missing 1 required positional argument: 'url'",
     "output_type": "error",
     "traceback": [
      "\u001b[1;31m---------------------------------------------------------------------------\u001b[0m",
      "\u001b[1;31mTypeError\u001b[0m                                 Traceback (most recent call last)",
      "Cell \u001b[1;32mIn[16], line 1\u001b[0m\n\u001b[1;32m----> 1\u001b[0m \u001b[43mwebbrowser\u001b[49m\u001b[38;5;241;43m.\u001b[39;49m\u001b[43mopen\u001b[49m\u001b[43m(\u001b[49m\u001b[43m)\u001b[49m\n",
      "\u001b[1;31mTypeError\u001b[0m: open() missing 1 required positional argument: 'url'"
     ]
    }
   ],
   "source": [
    "webbrowser.open()"
   ]
  },
  {
   "cell_type": "code",
   "execution_count": 17,
   "id": "6f92b2bd-5a02-4a8c-bb74-95f82d472d64",
   "metadata": {},
   "outputs": [
    {
     "ename": "SyntaxError",
     "evalue": "invalid syntax (1887193769.py, line 1)",
     "output_type": "error",
     "traceback": [
      "\u001b[1;36m  Cell \u001b[1;32mIn[17], line 1\u001b[1;36m\u001b[0m\n\u001b[1;33m    python auto_token_once.py\u001b[0m\n\u001b[1;37m           ^\u001b[0m\n\u001b[1;31mSyntaxError\u001b[0m\u001b[1;31m:\u001b[0m invalid syntax\n"
     ]
    }
   ],
   "source": [
    "python auto_token_once.py"
   ]
  },
  {
   "cell_type": "code",
   "execution_count": null,
   "id": "f75eb8e8-335b-48f8-9bb9-00124afc18e9",
   "metadata": {},
   "outputs": [],
   "source": []
  }
 ],
 "metadata": {
  "kernelspec": {
   "display_name": "Python 3 (ipykernel)",
   "language": "python",
   "name": "python3"
  },
  "language_info": {
   "codemirror_mode": {
    "name": "ipython",
    "version": 3
   },
   "file_extension": ".py",
   "mimetype": "text/x-python",
   "name": "python",
   "nbconvert_exporter": "python",
   "pygments_lexer": "ipython3",
   "version": "3.10.6"
  }
 },
 "nbformat": 4,
 "nbformat_minor": 5
}
