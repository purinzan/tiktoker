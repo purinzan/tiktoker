{
 "cells": [
  {
   "cell_type": "code",
   "execution_count": 24,
   "id": "a4205c43-26cb-4b85-8590-f842200ad115",
   "metadata": {},
   "outputs": [
    {
     "name": "stdout",
     "output_type": "stream",
     "text": [
      "開くURL: https://www.tiktok.com/v2/auth/authorize/?client_key=None&redirect_uri=None&response_type=code&scope=user.info.basic&state=abc123\n"
     ]
    },
    {
     "data": {
      "text/plain": [
       "True"
      ]
     },
     "execution_count": 24,
     "metadata": {},
     "output_type": "execute_result"
    }
   ],
   "source": [
    "import urllib.parse, webbrowser\n",
    "import http.server\n",
    "import socketserver\n",
    "import threading\n",
    "import webbrowser\n",
    "import urllib.parse\n",
    "import requests\n",
    "import json\n",
    "import os\n",
    "from dotenv import load_dotenv\n",
    "load_dotenv()\n",
    "CLIENT_KEY    = os.getenv(\"CLIENT_KEY\")    # または直書き \"sbawd6f9kgtu4fstl5\"\n",
    "CLIENT_SECRET = os.getenv(\"CLIENT_SECRET\") # または直書き \"YOUR_CLIENT_SECRET\"\n",
    "REDIRECT_URI  = os.getenv(\"REDIRECT_URI\") \n",
    "scopes        = [\"user.info.basic\"]\n",
    "\n",
    "params = {\n",
    "    \"client_key\": CLIENT_KEY,\n",
    "    \"redirect_uri\": REDIRECT_URI,\n",
    "    \"response_type\": \"code\",\n",
    "    \"scope\": \" \".join(scopes),\n",
    "    \"state\": \"abc123\"\n",
    "}\n",
    "auth_url = \"https://www.tiktok.com/v2/auth/authorize/?\" + urllib.parse.urlencode(params)\n",
    "print(\"開くURL:\", auth_url)\n",
    "webbrowser.open(auth_url)   # 既定ブラウザが自動で開く"
   ]
  },
  {
   "cell_type": "code",
   "execution_count": 16,
   "id": "0f90c4dd-ae46-4cb1-be39-bcba17424fd0",
   "metadata": {},
   "outputs": [
    {
     "name": "stdout",
     "output_type": "stream",
     "text": [
      "{\n",
      "  \"error\": \"invalid_request\",\n",
      "  \"error_description\": \"The request parameters are malformed.\",\n",
      "  \"log_id\": \"20250726052217C3959B2A101C0A3ECB19\"\n",
      "}\n",
      "API エラー: {'error': 'invalid_request', 'error_description': 'The request parameters are malformed.', 'log_id': '20250726052217C3959B2A101C0A3ECB19'}\n"
     ]
    }
   ],
   "source": [
    "import os, requests, json\n",
    "from dotenv import load_dotenv\n",
    "load_dotenv()  \n",
    "\n",
    "CODE          = \"__vpFTMgiT1J8JEi4jlTWPujjkUCMQak_EUseD6EBBbGJON4Rbhn1YibYWIKmqV4Aas3w15kNc1ZkfMFanV9UQQeOQ-8ErPCTN-U3MnDN8ylUmxj-QIkCaQ9Q8LIVp-3LH9bC1TxXq2qAR5sSQuRr6Jn_5dmebi8vaJs8dkCEKLDF9_0LvmXhnLu8ErG5cmPYsl6G5IDfrlS3_NJnGep9Zco_Cky-J4qtV2VOR33pUY%2A0%215351\"\n",
    "\n",
    "payload = {\n",
    "    \"client_key\":    CLIENT_KEY,\n",
    "    \"client_secret\": CLIENT_SECRET,\n",
    "    \"code\":          CODE,\n",
    "    \"grant_type\":    \"authorization_code\",\n",
    "    \"redirect_uri\":  REDIRECT_URI          # ★ 追加！\n",
    "}\n",
    "\n",
    "resp = requests.post(\n",
    "    \"https://open.tiktokapis.com/v2/oauth/token/\",\n",
    "    data=payload,\n",
    "    headers={\n",
    "        \"Content-Type\": \"application/x-www-form-urlencoded\"\n",
    "    },\n",
    "    timeout=15\n",
    ").json()\n",
    "\n",
    "print(json.dumps(resp, indent=2, ensure_ascii=False))\n",
    "\n",
    "if \"data\" in resp:          # ← 安全に取り出す\n",
    "    access_token  = resp[\"data\"][\"access_token\"]\n",
    "    refresh_token = resp[\"data\"][\"refresh_token\"]\n",
    "    print(\"トークン取得成功！\")\n",
    "else:\n",
    "    print(\"API エラー:\", resp)"
   ]
  },
  {
   "cell_type": "code",
   "execution_count": 21,
   "id": "3f65544b-6b0e-4569-9d96-e98087c3b072",
   "metadata": {
    "scrolled": true
   },
   "outputs": [
    {
     "name": "stdout",
     "output_type": "stream",
     "text": [
      "{\n",
      "  \"data\": {\n",
      "    \"user\": {\n",
      "      \"open_id\": \"-000DT7UI3F8wq1VMCRwCISsWdWDWjawYI2j\"\n",
      "    }\n",
      "  },\n",
      "  \"error\": {\n",
      "    \"code\": \"ok\",\n",
      "    \"message\": \"\",\n",
      "    \"log_id\": \"202507241250474B363A600456FD59AB33\"\n",
      "  }\n",
      "}\n"
     ]
    }
   ],
   "source": [
    "import requests, json\n",
    "\n",
    "ACCESS_TOKEN  = \"act.PUVpAoaHzX3eE7Fz3y4u3eN0KWuhwDdCqRjgwAygbv947QEsuSTHE5uGxIqm!5282.va\"        # 24h で失効\n",
    "headers = {\"Authorization\": f\"Bearer {ACCESS_TOKEN}\"}\n",
    "\n",
    "FIELDS = \",\".join([\n",
    "    \"open_id\",\n",
    "])\n",
    "\n",
    "resp = requests.get(\n",
    "    f\"https://open.tiktokapis.com/v2/user/info/?fields={FIELDS}\",\n",
    "    headers=headers,\n",
    "    timeout=15\n",
    ").json()\n",
    "\n",
    "print(json.dumps(resp, indent=2, ensure_ascii=False))\n",
    "\n"
   ]
  },
  {
   "cell_type": "code",
   "execution_count": 16,
   "id": "db92d144-df32-4903-aaad-0de7ed15e83f",
   "metadata": {},
   "outputs": [
    {
     "ename": "TypeError",
     "evalue": "open() missing 1 required positional argument: 'url'",
     "output_type": "error",
     "traceback": [
      "\u001b[1;31m---------------------------------------------------------------------------\u001b[0m",
      "\u001b[1;31mTypeError\u001b[0m                                 Traceback (most recent call last)",
      "Cell \u001b[1;32mIn[16], line 1\u001b[0m\n\u001b[1;32m----> 1\u001b[0m \u001b[43mwebbrowser\u001b[49m\u001b[38;5;241;43m.\u001b[39;49m\u001b[43mopen\u001b[49m\u001b[43m(\u001b[49m\u001b[43m)\u001b[49m\n",
      "\u001b[1;31mTypeError\u001b[0m: open() missing 1 required positional argument: 'url'"
     ]
    }
   ],
   "source": [
    "webbrowser.open()"
   ]
  },
  {
   "cell_type": "code",
   "execution_count": 17,
   "id": "6f92b2bd-5a02-4a8c-bb74-95f82d472d64",
   "metadata": {},
   "outputs": [
    {
     "ename": "SyntaxError",
     "evalue": "invalid syntax (1887193769.py, line 1)",
     "output_type": "error",
     "traceback": [
      "\u001b[1;36m  Cell \u001b[1;32mIn[17], line 1\u001b[1;36m\u001b[0m\n\u001b[1;33m    python auto_token_once.py\u001b[0m\n\u001b[1;37m           ^\u001b[0m\n\u001b[1;31mSyntaxError\u001b[0m\u001b[1;31m:\u001b[0m invalid syntax\n"
     ]
    }
   ],
   "source": [
    "python auto_token_once.py"
   ]
  },
  {
   "cell_type": "code",
   "execution_count": 20,
   "id": "f75eb8e8-335b-48f8-9bb9-00124afc18e9",
   "metadata": {},
   "outputs": [
    {
     "name": "stdout",
     "output_type": "stream",
     "text": [
      "None\n"
     ]
    }
   ],
   "source": [
    "print(os.getenv(\"CLIENT_KEY\"))"
   ]
  },
  {
   "cell_type": "code",
   "execution_count": null,
   "id": "391a9ba7-7740-4267-8aba-dc206dc3d4ac",
   "metadata": {},
   "outputs": [],
   "source": []
  }
 ],
 "metadata": {
  "kernelspec": {
   "display_name": "Python 3 (ipykernel)",
   "language": "python",
   "name": "python3"
  },
  "language_info": {
   "codemirror_mode": {
    "name": "ipython",
    "version": 3
   },
   "file_extension": ".py",
   "mimetype": "text/x-python",
   "name": "python",
   "nbconvert_exporter": "python",
   "pygments_lexer": "ipython3",
   "version": "3.10.6"
  }
 },
 "nbformat": 4,
 "nbformat_minor": 5
}
