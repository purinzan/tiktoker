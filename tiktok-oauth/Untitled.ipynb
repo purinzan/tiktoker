{
 "cells": [
  {
   "cell_type": "code",
   "execution_count": 14,
   "id": "91efcc5f-6779-4e8d-8d37-2bffc88f50b5",
   "metadata": {},
   "outputs": [
    {
     "name": "stdout",
     "output_type": "stream",
     "text": [
      "開くURL: https://www.tiktok.com/v2/auth/authorize/?client_key=sbawd6f9kgtu4fstl5&redirect_uri=https%3A%2F%2Ftiktoker-master.netlify.app%2F.netlify%2Ffunctions%2Fcallback&response_type=code&scope=user.info.basic&state=abc123\n"
     ]
    },
    {
     "data": {
      "text/plain": [
       "True"
      ]
     },
     "execution_count": 14,
     "metadata": {},
     "output_type": "execute_result"
    }
   ],
   "source": [
    "import urllib.parse, webbrowser\n",
    "import http.server\n",
    "import socketserver\n",
    "import threading\n",
    "import webbrowser\n",
    "import urllib.parse\n",
    "import requests\n",
    "import json\n",
    "import os\n",
    "from dotenv import load_dotenv\n",
    "load_dotenv()\n",
    "CLIENT_KEY    = os.getenv(\"CLIENT_KEY\")    # または直書き \"sbawd6f9kgtu4fstl5\"\n",
    "CLIENT_SECRET = os.getenv(\"CLIENT_SECRET\") # または直書き \"YOUR_CLIENT_SECRET\"\n",
    "REDIRECT_URI  = os.getenv(\"REDIRECT_URI\") \n",
    "scopes        = [\"user.info.basic\"]\n",
    "\n",
    "params = {\n",
    "    \"client_key\": CLIENT_KEY,\n",
    "    \"redirect_uri\": REDIRECT_URI,\n",
    "    \"response_type\": \"code\",\n",
    "    \"scope\": \" \".join(scopes),\n",
    "    \"state\": \"abc123\"\n",
    "}\n",
    "auth_url = \"https://www.tiktok.com/v2/auth/authorize/?\" + urllib.parse.urlencode(params)\n",
    "print(\"開くURL:\", auth_url)\n",
    "webbrowser.open(auth_url)   # 既定ブラウザが自動で開く"
   ]
  },
  {
   "cell_type": "code",
   "execution_count": null,
   "id": "73e4039e-bc5c-4740-b4d7-350d0e7edf98",
   "metadata": {},
   "outputs": [],
   "source": []
  },
  {
   "cell_type": "code",
   "execution_count": 11,
   "id": "0df430d6-e174-4d9f-b791-2768301c626d",
   "metadata": {},
   "outputs": [
    {
     "name": "stdout",
     "output_type": "stream",
     "text": [
      "ブラウザを開きます。TikTok でログイン＆許可を押してください…Listening on http://localhost:8765/callback …\n",
      "\n"
     ]
    },
    {
     "ename": "KeyboardInterrupt",
     "evalue": "",
     "output_type": "error",
     "traceback": [
      "\u001b[1;31m---------------------------------------------------------------------------\u001b[0m",
      "\u001b[1;31mKeyboardInterrupt\u001b[0m                         Traceback (most recent call last)",
      "Cell \u001b[1;32mIn[11], line 114\u001b[0m\n\u001b[0;32m    110\u001b[0m     \u001b[38;5;28mprint\u001b[39m(json\u001b[38;5;241m.\u001b[39mdumps(token_json, indent\u001b[38;5;241m=\u001b[39m\u001b[38;5;241m2\u001b[39m, ensure_ascii\u001b[38;5;241m=\u001b[39m\u001b[38;5;28;01mFalse\u001b[39;00m))\n\u001b[0;32m    113\u001b[0m \u001b[38;5;28;01mif\u001b[39;00m \u001b[38;5;18m__name__\u001b[39m \u001b[38;5;241m==\u001b[39m \u001b[38;5;124m\"\u001b[39m\u001b[38;5;124m__main__\u001b[39m\u001b[38;5;124m\"\u001b[39m:\n\u001b[1;32m--> 114\u001b[0m     \u001b[43mmain\u001b[49m\u001b[43m(\u001b[49m\u001b[43m)\u001b[49m\n",
      "Cell \u001b[1;32mIn[11], line 80\u001b[0m, in \u001b[0;36mmain\u001b[1;34m()\u001b[0m\n\u001b[0;32m     78\u001b[0m     threading\u001b[38;5;241m.\u001b[39mThread(target\u001b[38;5;241m=\u001b[39mopen_authorize_url, daemon\u001b[38;5;241m=\u001b[39m\u001b[38;5;28;01mTrue\u001b[39;00m)\u001b[38;5;241m.\u001b[39mstart()\n\u001b[0;32m     79\u001b[0m     \u001b[38;5;28mprint\u001b[39m(\u001b[38;5;124mf\u001b[39m\u001b[38;5;124m\"\u001b[39m\u001b[38;5;124mListening on http://localhost:\u001b[39m\u001b[38;5;132;01m{\u001b[39;00mPORT\u001b[38;5;132;01m}\u001b[39;00m\u001b[38;5;124m/callback …\u001b[39m\u001b[38;5;124m\"\u001b[39m)\n\u001b[1;32m---> 80\u001b[0m     \u001b[43mhttpd\u001b[49m\u001b[38;5;241;43m.\u001b[39;49m\u001b[43mserve_forever\u001b[49m\u001b[43m(\u001b[49m\u001b[43m)\u001b[49m\n\u001b[0;32m     82\u001b[0m \u001b[38;5;66;03m# 2) code の取得待ち\u001b[39;00m\n\u001b[0;32m     83\u001b[0m \u001b[38;5;28;01mif\u001b[39;00m \u001b[38;5;129;01mnot\u001b[39;00m code_value:\n",
      "File \u001b[1;32m~\\AppData\\Local\\Programs\\Python\\Python310\\lib\\socketserver.py:232\u001b[0m, in \u001b[0;36mBaseServer.serve_forever\u001b[1;34m(self, poll_interval)\u001b[0m\n\u001b[0;32m    229\u001b[0m selector\u001b[38;5;241m.\u001b[39mregister(\u001b[38;5;28mself\u001b[39m, selectors\u001b[38;5;241m.\u001b[39mEVENT_READ)\n\u001b[0;32m    231\u001b[0m \u001b[38;5;28;01mwhile\u001b[39;00m \u001b[38;5;129;01mnot\u001b[39;00m \u001b[38;5;28mself\u001b[39m\u001b[38;5;241m.\u001b[39m__shutdown_request:\n\u001b[1;32m--> 232\u001b[0m     ready \u001b[38;5;241m=\u001b[39m \u001b[43mselector\u001b[49m\u001b[38;5;241;43m.\u001b[39;49m\u001b[43mselect\u001b[49m\u001b[43m(\u001b[49m\u001b[43mpoll_interval\u001b[49m\u001b[43m)\u001b[49m\n\u001b[0;32m    233\u001b[0m     \u001b[38;5;66;03m# bpo-35017: shutdown() called during select(), exit immediately.\u001b[39;00m\n\u001b[0;32m    234\u001b[0m     \u001b[38;5;28;01mif\u001b[39;00m \u001b[38;5;28mself\u001b[39m\u001b[38;5;241m.\u001b[39m__shutdown_request:\n",
      "File \u001b[1;32m~\\AppData\\Local\\Programs\\Python\\Python310\\lib\\selectors.py:324\u001b[0m, in \u001b[0;36mSelectSelector.select\u001b[1;34m(self, timeout)\u001b[0m\n\u001b[0;32m    322\u001b[0m ready \u001b[38;5;241m=\u001b[39m []\n\u001b[0;32m    323\u001b[0m \u001b[38;5;28;01mtry\u001b[39;00m:\n\u001b[1;32m--> 324\u001b[0m     r, w, _ \u001b[38;5;241m=\u001b[39m \u001b[38;5;28;43mself\u001b[39;49m\u001b[38;5;241;43m.\u001b[39;49m\u001b[43m_select\u001b[49m\u001b[43m(\u001b[49m\u001b[38;5;28;43mself\u001b[39;49m\u001b[38;5;241;43m.\u001b[39;49m\u001b[43m_readers\u001b[49m\u001b[43m,\u001b[49m\u001b[43m \u001b[49m\u001b[38;5;28;43mself\u001b[39;49m\u001b[38;5;241;43m.\u001b[39;49m\u001b[43m_writers\u001b[49m\u001b[43m,\u001b[49m\u001b[43m \u001b[49m\u001b[43m[\u001b[49m\u001b[43m]\u001b[49m\u001b[43m,\u001b[49m\u001b[43m \u001b[49m\u001b[43mtimeout\u001b[49m\u001b[43m)\u001b[49m\n\u001b[0;32m    325\u001b[0m \u001b[38;5;28;01mexcept\u001b[39;00m \u001b[38;5;167;01mInterruptedError\u001b[39;00m:\n\u001b[0;32m    326\u001b[0m     \u001b[38;5;28;01mreturn\u001b[39;00m ready\n",
      "File \u001b[1;32m~\\AppData\\Local\\Programs\\Python\\Python310\\lib\\selectors.py:315\u001b[0m, in \u001b[0;36mSelectSelector._select\u001b[1;34m(self, r, w, _, timeout)\u001b[0m\n\u001b[0;32m    314\u001b[0m \u001b[38;5;28;01mdef\u001b[39;00m \u001b[38;5;21m_select\u001b[39m(\u001b[38;5;28mself\u001b[39m, r, w, _, timeout\u001b[38;5;241m=\u001b[39m\u001b[38;5;28;01mNone\u001b[39;00m):\n\u001b[1;32m--> 315\u001b[0m     r, w, x \u001b[38;5;241m=\u001b[39m \u001b[43mselect\u001b[49m\u001b[38;5;241;43m.\u001b[39;49m\u001b[43mselect\u001b[49m\u001b[43m(\u001b[49m\u001b[43mr\u001b[49m\u001b[43m,\u001b[49m\u001b[43m \u001b[49m\u001b[43mw\u001b[49m\u001b[43m,\u001b[49m\u001b[43m \u001b[49m\u001b[43mw\u001b[49m\u001b[43m,\u001b[49m\u001b[43m \u001b[49m\u001b[43mtimeout\u001b[49m\u001b[43m)\u001b[49m\n\u001b[0;32m    316\u001b[0m     \u001b[38;5;28;01mreturn\u001b[39;00m r, w \u001b[38;5;241m+\u001b[39m x, []\n",
      "\u001b[1;31mKeyboardInterrupt\u001b[0m: "
     ]
    }
   ],
   "source": [
    "import http.server\n",
    "import socketserver\n",
    "import threading\n",
    "import webbrowser\n",
    "import urllib.parse\n",
    "import requests\n",
    "import json\n",
    "import os\n",
    "from dotenv import load_dotenv\n",
    "\n",
    "#── 設定セクション ──────────────────────────────────────\n",
    "\n",
    "# .env を使う場合はプロジェクト直下に .env を置き、load_dotenv() を有効に\n",
    "load_dotenv()\n",
    "CLIENT_KEY    = os.getenv(\"CLIENT_KEY\")    # または直書き \"sbawd6f9kgtu4fstl5\"\n",
    "CLIENT_SECRET = os.getenv(\"CLIENT_SECRET\") # または直書き \"YOUR_CLIENT_SECRET\"\n",
    "REDIRECT_URI  = os.getenv(\"REDIRECT_URI\")  # \"http://localhost:8765/callback\"\n",
    "SCOPES        = [\"user.info.basic\"]\n",
    "\n",
    "# REDIRECT_URI からポート番号を取得\n",
    "parsed = urllib.parse.urlparse(REDIRECT_URI)\n",
    "PORT = parsed.port or 8765\n",
    "\n",
    "if not CLIENT_KEY or not CLIENT_SECRET or not REDIRECT_URI:\n",
    "    raise RuntimeError(\"CLIENT_KEY, CLIENT_SECRET, REDIRECT_URI を .env か直書きで設定してください\")\n",
    "\n",
    "#── HTTP サーバー定義 ────────────────────────────────────\n",
    "\n",
    "code_value = None\n",
    "\n",
    "class CallbackHandler(http.server.BaseHTTPRequestHandler):\n",
    "    def do_GET(self):\n",
    "        global code_value\n",
    "        u = urllib.parse.urlparse(self.path)\n",
    "        if u.path != \"/callback\":\n",
    "            self.send_error(404, \"Not found\")\n",
    "            return\n",
    "        params = urllib.parse.parse_qs(u.query)\n",
    "        code_value = params.get(\"code\", [None])[0]\n",
    "        if not code_value:\n",
    "            self.send_error(400, \"code parameter is required\")\n",
    "            return\n",
    "\n",
    "        # レスポンス\n",
    "        self.send_response(200)\n",
    "        self.send_header(\"Content-Type\", \"text/html; charset=utf-8\")\n",
    "        self.end_headers()\n",
    "        self.wfile.write(\"<h2>認証完了しました。ターミナルを確認してください。</h2>\")\n",
    "\n",
    "        # サーバーシャットダウンを別スレッドで\n",
    "        threading.Thread(target=self.server.shutdown, daemon=True).start()\n",
    "\n",
    "    # ログを抑制\n",
    "    def log_message(self, format, *args):\n",
    "        return\n",
    "\n",
    "\n",
    "#── 認可 URL を開く ──────────────────────────────────────\n",
    "\n",
    "def open_authorize_url():\n",
    "    params = {\n",
    "        \"client_key\":    CLIENT_KEY,\n",
    "        \"redirect_uri\":  REDIRECT_URI,\n",
    "        \"response_type\": \"code\",\n",
    "        \"scope\":         \" \".join(SCOPES),\n",
    "        \"state\":         \"local\"\n",
    "    }\n",
    "    url = \"https://www.tiktok.com/v2/auth/authorize/?\" + urllib.parse.urlencode(params)\n",
    "    print(\"ブラウザを開きます。TikTok でログイン＆許可を押してください…\")\n",
    "    webbrowser.open(url, new=1)\n",
    "\n",
    "\n",
    "#── メインフロー ────────────────────────────────────────\n",
    "\n",
    "def main():\n",
    "    # 1) ローカルサーバー起動\n",
    "    with socketserver.TCPServer((\"localhost\", PORT), CallbackHandler) as httpd:\n",
    "        threading.Thread(target=open_authorize_url, daemon=True).start()\n",
    "        print(f\"Listening on http://localhost:{PORT}/callback …\")\n",
    "        httpd.serve_forever()\n",
    "\n",
    "    # 2) code の取得待ち\n",
    "    if not code_value:\n",
    "        print(\"認可コードを取得できませんでした。\")\n",
    "        return\n",
    "    print(\"取得した code:\", code_value)\n",
    "\n",
    "    # 3) code → token 交換\n",
    "    resp = requests.post(\n",
    "        \"https://open.tiktokapis.com/v2/oauth/token/\",\n",
    "        data={\n",
    "            \"client_key\":    CLIENT_KEY,\n",
    "            \"client_secret\": CLIENT_SECRET,\n",
    "            \"code\":          code_value,\n",
    "            \"grant_type\":    \"authorization_code\",\n",
    "            \"redirect_uri\":  REDIRECT_URI\n",
    "        },\n",
    "        headers={\"Content-Type\": \"application/x-www-form-urlencoded\"},\n",
    "        timeout=15\n",
    "    )\n",
    "    token_json = resp.json()\n",
    "    if resp.status_code != 200:\n",
    "        print(\"トークン取得に失敗:\", token_json)\n",
    "        return\n",
    "\n",
    "    # 4) tokens.json に保存\n",
    "    with open(\"tokens.json\", \"w\", encoding=\"utf-8\") as f:\n",
    "        json.dump(token_json, f, ensure_ascii=False, indent=2)\n",
    "    print(\"トークンを tokens.json に保存しました。内容:\")\n",
    "    print(json.dumps(token_json, indent=2, ensure_ascii=False))\n",
    "\n",
    "\n",
    "if __name__ == \"__main__\":\n",
    "    main()"
   ]
  },
  {
   "cell_type": "code",
   "execution_count": 10,
   "id": "76628797-2ed6-45e6-abed-e6b1c4b17cfd",
   "metadata": {},
   "outputs": [
    {
     "name": "stdout",
     "output_type": "stream",
     "text": [
      "sbawd6f9kgtu4fstl5\n"
     ]
    }
   ],
   "source": [
    "print(CLIENT_KEY)"
   ]
  },
  {
   "cell_type": "code",
   "execution_count": null,
   "id": "c70e5552-54ae-4255-a2d9-b83739e13f58",
   "metadata": {},
   "outputs": [],
   "source": []
  },
  {
   "cell_type": "code",
   "execution_count": null,
   "id": "fddda195-d692-46bd-be54-615a00c3e854",
   "metadata": {},
   "outputs": [],
   "source": []
  }
 ],
 "metadata": {
  "kernelspec": {
   "display_name": "Python 3 (ipykernel)",
   "language": "python",
   "name": "python3"
  },
  "language_info": {
   "codemirror_mode": {
    "name": "ipython",
    "version": 3
   },
   "file_extension": ".py",
   "mimetype": "text/x-python",
   "name": "python",
   "nbconvert_exporter": "python",
   "pygments_lexer": "ipython3",
   "version": "3.10.6"
  }
 },
 "nbformat": 4,
 "nbformat_minor": 5
}
